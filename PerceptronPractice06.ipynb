{
 "cells": [
  {
   "cell_type": "markdown",
   "metadata": {},
   "source": [
    "# How Stochastic Gradient Descent code works"
   ]
  },
  {
   "cell_type": "markdown",
   "metadata": {},
   "source": [
    "## From Rashka's ML book, 2017"
   ]
  },
  {
   "cell_type": "markdown",
   "metadata": {},
   "source": [
    "### Initially, how to set up classes"
   ]
  },
  {
   "cell_type": "markdown",
   "metadata": {},
   "source": [
    "Rashka uses:"
   ]
  },
  {
   "cell_type": "code",
   "execution_count": 1,
   "metadata": {},
   "outputs": [],
   "source": [
    "class MyClass(object):\n",
    "    pass"
   ]
  },
  {
   "cell_type": "markdown",
   "metadata": {},
   "source": [
    "This makes the code Python agnostic between Python 2 and Python 3. For my purposes just use:"
   ]
  },
  {
   "cell_type": "code",
   "execution_count": 2,
   "metadata": {},
   "outputs": [],
   "source": [
    "class MyClass:\n",
    "    pass"
   ]
  },
  {
   "cell_type": "markdown",
   "metadata": {},
   "source": [
    "**Rule of thumb:** don't introduce new attribute outside \\__init__"
   ]
  },
  {
   "cell_type": "markdown",
   "metadata": {},
   "source": [
    "**self** refers to the instances (objects) of the class"
   ]
  },
  {
   "cell_type": "markdown",
   "metadata": {},
   "source": [
    "| Non-OOL | OOL |\n",
    "| :---: | :---: |\n",
    "| variable | attribute |\n",
    "| function | method |\n"
   ]
  },
  {
   "cell_type": "markdown",
   "metadata": {},
   "source": [
    "**Different types of attributes/methods:**<br>Static attibutes/methods, are the same in all instances of the class:"
   ]
  },
  {
   "cell_type": "code",
   "execution_count": 10,
   "metadata": {},
   "outputs": [
    {
     "name": "stdout",
     "output_type": "stream",
     "text": [
      "(4, 4)\n"
     ]
    }
   ],
   "source": [
    "class Car:\n",
    "    wheels = 4\n",
    "    \n",
    "nissan = Car()\n",
    "VW = Car()\n",
    "print((nissan.wheels, VW.wheels))"
   ]
  },
  {
   "cell_type": "markdown",
   "metadata": {},
   "source": [
    "The 'normal' everyday methods are Instance methods, and call (self):"
   ]
  },
  {
   "cell_type": "code",
   "execution_count": 13,
   "metadata": {},
   "outputs": [
    {
     "name": "stdout",
     "output_type": "stream",
     "text": [
      "Economy\n",
      "Premium Economy\n"
     ]
    }
   ],
   "source": [
    "class Car:\n",
    "    wheels = 4\n",
    "    \n",
    "    def __init__(self, price_range):\n",
    "        self.price_range = (price_range)\n",
    "        \n",
    "nissan = Car('Economy')\n",
    "VW = Car('Premium Economy')\n",
    "\n",
    "print(nissan.price_range)\n",
    "print(VW.price_range)"
   ]
  },
  {
   "cell_type": "markdown",
   "metadata": {},
   "source": [
    "Different methods are shown below. Class method and static method have decorator labels. These are nicely explained at:<br>\n",
    "https://realpython.com/primer-on-python-decorators/"
   ]
  },
  {
   "cell_type": "code",
   "execution_count": 24,
   "metadata": {},
   "outputs": [],
   "source": [
    "class Car:\n",
    "    wheels = 4\n",
    "    \n",
    "    def __init__(self, price_range):\n",
    "        self.price_range = (price_range)\n",
    "    \n",
    "    def method(self):\n",
    "        return 'instance method called', self\n",
    "\n",
    "    @classmethod\n",
    "    def classmethod(cls):\n",
    "        return 'class method called', cls\n",
    "\n",
    "    @staticmethod\n",
    "    def staticmethod():\n",
    "        return 'static method called'\n",
    "    \n"
   ]
  },
  {
   "cell_type": "code",
   "execution_count": 26,
   "metadata": {},
   "outputs": [
    {
     "data": {
      "text/plain": [
       "('instance method called', <__main__.Car at 0x10ffcd3c8>)"
      ]
     },
     "execution_count": 26,
     "metadata": {},
     "output_type": "execute_result"
    }
   ],
   "source": [
    "mercedes = Car('Premium')\n",
    "mercedes.method()"
   ]
  },
  {
   "cell_type": "code",
   "execution_count": 27,
   "metadata": {},
   "outputs": [
    {
     "data": {
      "text/plain": [
       "('class method called', __main__.Car)"
      ]
     },
     "execution_count": 27,
     "metadata": {},
     "output_type": "execute_result"
    }
   ],
   "source": [
    "mercedes.classmethod()"
   ]
  },
  {
   "cell_type": "markdown",
   "metadata": {},
   "source": [
    "## Playing with methods in a class"
   ]
  },
  {
   "cell_type": "markdown",
   "metadata": {},
   "source": [
    "### See Rashka's own explanation at:"
   ]
  },
  {
   "cell_type": "markdown",
   "metadata": {},
   "source": [
    "https://github.com/rasbt/python-machine-learning-book/blob/master/faq/underscore-convention.md\n",
    "\n",
    "Basically, a trailing underscore_: sklearn convention for something which is estimated; leading \\_underscore is a 'private' attribute inside the class (are helpers).\n"
   ]
  },
  {
   "cell_type": "markdown",
   "metadata": {},
   "source": [
    "This works inside the \\__init__:"
   ]
  },
  {
   "cell_type": "code",
   "execution_count": 78,
   "metadata": {},
   "outputs": [
    {
     "name": "stdout",
     "output_type": "stream",
     "text": [
      "[[0, 0, 0], [0, 0, 0], [0, 0, 0], [0, 0, 0]]\n"
     ]
    }
   ],
   "source": [
    "# create a matrix inside the class\n",
    "class UnderstandCode:\n",
    "    def __init__(self, m, n, seed):\n",
    "        self.m = m\n",
    "        self.n = n\n",
    "        self.randomseed = seed\n",
    "             \n",
    "        def creatematrix(self):\n",
    "            matrix = []\n",
    "            for _ in range(self.n):\n",
    "                row = []\n",
    "                for _ in range(self.m):\n",
    "                    row.append(self.randomseed)\n",
    "                matrix.append(row)\n",
    "            return matrix\n",
    "                \n",
    "        self.matrix = creatematrix(self)\n",
    "    \n",
    "    def helper(self):\n",
    "        print(self.matrix)\n",
    "        \n",
    "z = UnderstandCode(3,4,0)\n",
    "z.helper()"
   ]
  },
  {
   "cell_type": "markdown",
   "metadata": {},
   "source": [
    "I had a **HUGE MISUNDERSTANDING** reading Rashka's code!\n",
    "\n",
    "For instance, in his SGD Adaline, in *fit method* it envokes self.\\_initialize_weights(X.shape[1]). This isn't an attribute, it tells the \\_initialize_weights function to happen, causing the self.w_ attribute to be created. self.w_ is not in \\__init__, as it isn't needed until the fit is called.\n"
   ]
  },
  {
   "cell_type": "code",
   "execution_count": 125,
   "metadata": {},
   "outputs": [
    {
     "name": "stdout",
     "output_type": "stream",
     "text": [
      "w_: [ 0.00050562  0.00499951 -0.00995909  0.00693599]\n",
      "w_ [0.01764052 0.00400157 0.00978738]\n",
      "\n",
      "self.w_ [ 0.01624345 -0.00611756 -0.00528172]\n",
      "self.a_ [0, 0, 0, 0, 0, 0, 0, 0, 0, 0, 0]\n"
     ]
    }
   ],
   "source": [
    "# introduce random numbers\n",
    "import numpy as np\n",
    "rgen = np.random.RandomState(4)\n",
    "\n",
    "# what does the self.w_ look like?\n",
    "w_ = rgen.normal(loc=0.0, scale=0.01, size=4)\n",
    "print(\"w_:\", w_)\n",
    "\n",
    "# take the matrix creator outide the class\n",
    "def creatematrix(m, n, seed):\n",
    "    matrix = []\n",
    "    rgen = np.random.RandomState(seed)\n",
    "    for _ in range(n):\n",
    "        row = []\n",
    "        for _ in range(m):\n",
    "            row.append(rgen.randint(0,9))\n",
    "        matrix.append(row)\n",
    "    return matrix\n",
    "\n",
    "class UnderstandCode:\n",
    "    def __init__(self, seed):\n",
    "        self.rgen = np.random.RandomState(seed)\n",
    "        \n",
    "    def fit(self, matrix):\n",
    "        self._initialize_weights(matrix)\n",
    "        \n",
    "    def _initialize_weights(self, m):\n",
    "        \"\"\"Initialize weights to small random numbers\"\"\"\n",
    "        self.w_ = self.rgen.normal(loc=0.0, scale=0.01, size=m)\n",
    "    \n",
    "    def something(self, n):\n",
    "        self._anything(n)\n",
    "        # ^ I am asking _anytthing function to happen. \n",
    "        # If invoked I can print the .a_ attribute (but not earlier).\n",
    "    \n",
    "    def _anything(self, n):\n",
    "        self.a_ = [0] * n\n",
    "\n",
    "    def helper(self):\n",
    "        print(\"self.w_\", self.w_)\n",
    "        print(\"self.a_\", self.a_)\n",
    "        \n",
    "data = creatematrix(3, 4, 0)\n",
    "# print(data)\n",
    "\n",
    "uc01 = UnderstandCode(0)\n",
    "uc01.fit(len(data[0]))\n",
    "print(\"w_\", uc01.w_)\n",
    "print()\n",
    "\n",
    "# Created another 'pair' (something and _anything) and do the same thing\n",
    "uc02 = UnderstandCode(1)\n",
    "uc02.fit(len(data[0]))\n",
    "uc02.something(11)\n",
    "\n",
    "# see what happened with helper function in class\n",
    "uc02.helper()"
   ]
  },
  {
   "cell_type": "markdown",
   "metadata": {},
   "source": [
    "Rashka's Github simpler examples:"
   ]
  },
  {
   "cell_type": "code",
   "execution_count": 126,
   "metadata": {},
   "outputs": [
    {
     "name": "stdout",
     "output_type": "stream",
     "text": [
      "1.0\n",
      "[0.1, 0.1, 0.1, 0.1, 0.1]\n"
     ]
    }
   ],
   "source": [
    "class MyEstimator():\n",
    "    def __init__(self):\n",
    "        self.param = 1.0\n",
    "\n",
    "    def fit(self):\n",
    "        self.fit_param_ = [0.1] * 5\n",
    "    \n",
    "z = MyEstimator()\n",
    "print(z.param)\n",
    "z.fit()\n",
    "print(z.fit_param_)"
   ]
  },
  {
   "cell_type": "code",
   "execution_count": 127,
   "metadata": {},
   "outputs": [],
   "source": [
    "class MyClass(object):\n",
    "    def __init__(self, param='some_value'):\n",
    "        pass\n",
    "\n",
    "    def public(self):\n",
    "        'User, this public method is for you!'\n",
    "        return 'public method'\n",
    "\n",
    "    def _indicate_private(self):\n",
    "        return 'private method'\n",
    "\n",
    "    def __pseudo_private(self):\n",
    "        return 'really private method'"
   ]
  },
  {
   "cell_type": "code",
   "execution_count": 128,
   "metadata": {},
   "outputs": [
    {
     "data": {
      "text/plain": [
       "'public method'"
      ]
     },
     "execution_count": 128,
     "metadata": {},
     "output_type": "execute_result"
    }
   ],
   "source": [
    "MyObj = MyClass()\n",
    "MyObj.public()"
   ]
  },
  {
   "cell_type": "code",
   "execution_count": 129,
   "metadata": {},
   "outputs": [
    {
     "data": {
      "text/plain": [
       "'private method'"
      ]
     },
     "execution_count": 129,
     "metadata": {},
     "output_type": "execute_result"
    }
   ],
   "source": [
    "MyObj._indicate_private()\n"
   ]
  },
  {
   "cell_type": "code",
   "execution_count": null,
   "metadata": {},
   "outputs": [],
   "source": []
  }
 ],
 "metadata": {
  "kernelspec": {
   "display_name": "Python 3",
   "language": "python",
   "name": "python3"
  },
  "language_info": {
   "codemirror_mode": {
    "name": "ipython",
    "version": 3
   },
   "file_extension": ".py",
   "mimetype": "text/x-python",
   "name": "python",
   "nbconvert_exporter": "python",
   "pygments_lexer": "ipython3",
   "version": "3.6.5"
  }
 },
 "nbformat": 4,
 "nbformat_minor": 2
}
